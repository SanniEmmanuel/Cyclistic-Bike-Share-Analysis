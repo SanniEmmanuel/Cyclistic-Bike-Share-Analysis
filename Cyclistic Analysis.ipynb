{
 "cells": [
  {
   "cell_type": "markdown",
   "metadata": {},
   "source": [
    "Import Libraries"
   ]
  },
  {
   "cell_type": "code",
   "execution_count": 1,
   "metadata": {},
   "outputs": [],
   "source": [
    "import pandas as pd\n",
    "import numpy as np\n",
    "import datetime as dt"
   ]
  },
  {
   "cell_type": "markdown",
   "metadata": {},
   "source": [
    "Load the datasets"
   ]
  },
  {
   "cell_type": "code",
   "execution_count": 2,
   "metadata": {},
   "outputs": [],
   "source": [
    "jan = pd.read_csv(\"202201-divvy-tripdata.csv\")\n",
    "feb = pd.read_csv(\"202202-divvy-tripdata.csv\")\n",
    "mar = pd.read_csv(\"202203-divvy-tripdata.csv\")\n",
    "apr = pd.read_csv(\"202104-divvy-tripdata.csv\")\n",
    "may = pd.read_csv(\"202105-divvy-tripdata.csv\")\n",
    "jun = pd.read_csv(\"202106-divvy-tripdata.csv\")\n",
    "jul = pd.read_csv(\"202107-divvy-tripdata.csv\")\n",
    "aug = pd.read_csv(\"202108-divvy-tripdata.csv\")\n",
    "sep = pd.read_csv(\"202109-divvy-tripdata.csv\")\n",
    "octo = pd.read_csv(\"202110-divvy-tripdata.csv\")\n",
    "nov = pd.read_csv(\"202111-divvy-tripdata.csv\")\n",
    "dec = pd.read_csv(\"202112-divvy-tripdata.csv\")"
   ]
  },
  {
   "cell_type": "markdown",
   "metadata": {},
   "source": [
    "Create a list of the datasets"
   ]
  },
  {
   "cell_type": "code",
   "execution_count": 3,
   "metadata": {},
   "outputs": [],
   "source": [
    "data_list = [apr, may, jun, jul, aug, sep, octo, nov, dec, jan, feb, mar]"
   ]
  },
  {
   "cell_type": "markdown",
   "metadata": {},
   "source": [
    "Merge the datasets and check the datatypes"
   ]
  },
  {
   "cell_type": "code",
   "execution_count": 4,
   "metadata": {},
   "outputs": [
    {
     "data": {
      "text/plain": [
       "ride_id                object\n",
       "rideable_type          object\n",
       "started_at             object\n",
       "ended_at               object\n",
       "start_station_name     object\n",
       "start_station_id       object\n",
       "end_station_name       object\n",
       "end_station_id         object\n",
       "start_lat             float64\n",
       "start_lng             float64\n",
       "end_lat               float64\n",
       "end_lng               float64\n",
       "member_casual          object\n",
       "dtype: object"
      ]
     },
     "execution_count": 4,
     "metadata": {},
     "output_type": "execute_result"
    }
   ],
   "source": [
    "merged_df = pd.concat(data_list)\n",
    "\n",
    "merged_df.dtypes"
   ]
  },
  {
   "cell_type": "markdown",
   "metadata": {},
   "source": [
    "Convert the 'started_at' and 'ended_at' columns to datetime objects to calculate the length of each ride"
   ]
  },
  {
   "cell_type": "code",
   "execution_count": 5,
   "metadata": {},
   "outputs": [],
   "source": [
    "merged_df['started_at'] = pd.to_datetime(merged_df['started_at'])\n",
    "merged_df['ended_at'] = pd.to_datetime(merged_df['ended_at'])"
   ]
  },
  {
   "cell_type": "code",
   "execution_count": 6,
   "metadata": {},
   "outputs": [
    {
     "data": {
      "text/plain": [
       "started_at    datetime64[ns]\n",
       "ended_at      datetime64[ns]\n",
       "dtype: object"
      ]
     },
     "execution_count": 6,
     "metadata": {},
     "output_type": "execute_result"
    }
   ],
   "source": [
    "merged_df[['started_at', 'ended_at']].dtypes"
   ]
  },
  {
   "cell_type": "markdown",
   "metadata": {},
   "source": [
    "Calculate the length of each ride and check the columns"
   ]
  },
  {
   "cell_type": "code",
   "execution_count": 7,
   "metadata": {},
   "outputs": [
    {
     "data": {
      "text/plain": [
       "0        0 days 00:31:19\n",
       "1        0 days 01:04:18\n",
       "2        3 days 22:57:39\n",
       "3        0 days 00:25:06\n",
       "4        0 days 01:31:17\n",
       "               ...      \n",
       "284037   0 days 00:08:29\n",
       "284038   0 days 00:46:12\n",
       "284039   0 days 00:13:28\n",
       "284040   0 days 00:05:40\n",
       "284041   0 days 00:09:59\n",
       "Name: ride_length, Length: 5723532, dtype: timedelta64[ns]"
      ]
     },
     "execution_count": 7,
     "metadata": {},
     "output_type": "execute_result"
    }
   ],
   "source": [
    "merged_df['ride_length'] = merged_df['ended_at'] - merged_df['started_at']\n",
    "\n",
    "merged_df['ride_length']"
   ]
  },
  {
   "cell_type": "code",
   "execution_count": 8,
   "metadata": {},
   "outputs": [
    {
     "data": {
      "text/html": [
       "<div>\n",
       "<style scoped>\n",
       "    .dataframe tbody tr th:only-of-type {\n",
       "        vertical-align: middle;\n",
       "    }\n",
       "\n",
       "    .dataframe tbody tr th {\n",
       "        vertical-align: top;\n",
       "    }\n",
       "\n",
       "    .dataframe thead th {\n",
       "        text-align: right;\n",
       "    }\n",
       "</style>\n",
       "<table border=\"1\" class=\"dataframe\">\n",
       "  <thead>\n",
       "    <tr style=\"text-align: right;\">\n",
       "      <th></th>\n",
       "      <th>ride_id</th>\n",
       "      <th>rideable_type</th>\n",
       "      <th>started_at</th>\n",
       "      <th>ended_at</th>\n",
       "      <th>start_station_name</th>\n",
       "      <th>start_station_id</th>\n",
       "      <th>end_station_name</th>\n",
       "      <th>end_station_id</th>\n",
       "      <th>start_lat</th>\n",
       "      <th>start_lng</th>\n",
       "      <th>end_lat</th>\n",
       "      <th>end_lng</th>\n",
       "      <th>member_casual</th>\n",
       "      <th>ride_length</th>\n",
       "      <th>day_of_week</th>\n",
       "    </tr>\n",
       "  </thead>\n",
       "  <tbody>\n",
       "    <tr>\n",
       "      <th>0</th>\n",
       "      <td>6C992BD37A98A63F</td>\n",
       "      <td>classic_bike</td>\n",
       "      <td>2021-04-12 18:25:36</td>\n",
       "      <td>2021-04-12 18:56:55</td>\n",
       "      <td>State St &amp; Pearson St</td>\n",
       "      <td>TA1307000061</td>\n",
       "      <td>Southport Ave &amp; Waveland Ave</td>\n",
       "      <td>13235</td>\n",
       "      <td>41.897448</td>\n",
       "      <td>-87.628722</td>\n",
       "      <td>41.948150</td>\n",
       "      <td>-87.663940</td>\n",
       "      <td>member</td>\n",
       "      <td>0 days 00:31:19</td>\n",
       "      <td>0</td>\n",
       "    </tr>\n",
       "    <tr>\n",
       "      <th>1</th>\n",
       "      <td>1E0145613A209000</td>\n",
       "      <td>docked_bike</td>\n",
       "      <td>2021-04-27 17:27:11</td>\n",
       "      <td>2021-04-27 18:31:29</td>\n",
       "      <td>Dorchester Ave &amp; 49th St</td>\n",
       "      <td>KA1503000069</td>\n",
       "      <td>Dorchester Ave &amp; 49th St</td>\n",
       "      <td>KA1503000069</td>\n",
       "      <td>41.805772</td>\n",
       "      <td>-87.592464</td>\n",
       "      <td>41.805772</td>\n",
       "      <td>-87.592464</td>\n",
       "      <td>casual</td>\n",
       "      <td>0 days 01:04:18</td>\n",
       "      <td>1</td>\n",
       "    </tr>\n",
       "    <tr>\n",
       "      <th>2</th>\n",
       "      <td>E498E15508A80BAD</td>\n",
       "      <td>docked_bike</td>\n",
       "      <td>2021-04-03 12:42:45</td>\n",
       "      <td>2021-04-07 11:40:24</td>\n",
       "      <td>Loomis Blvd &amp; 84th St</td>\n",
       "      <td>20121</td>\n",
       "      <td>Loomis Blvd &amp; 84th St</td>\n",
       "      <td>20121</td>\n",
       "      <td>41.741487</td>\n",
       "      <td>-87.658410</td>\n",
       "      <td>41.741487</td>\n",
       "      <td>-87.658410</td>\n",
       "      <td>casual</td>\n",
       "      <td>3 days 22:57:39</td>\n",
       "      <td>5</td>\n",
       "    </tr>\n",
       "    <tr>\n",
       "      <th>3</th>\n",
       "      <td>1887262AD101C604</td>\n",
       "      <td>classic_bike</td>\n",
       "      <td>2021-04-17 09:17:42</td>\n",
       "      <td>2021-04-17 09:42:48</td>\n",
       "      <td>Honore St &amp; Division St</td>\n",
       "      <td>TA1305000034</td>\n",
       "      <td>Southport Ave &amp; Waveland Ave</td>\n",
       "      <td>13235</td>\n",
       "      <td>41.903119</td>\n",
       "      <td>-87.673935</td>\n",
       "      <td>41.948150</td>\n",
       "      <td>-87.663940</td>\n",
       "      <td>member</td>\n",
       "      <td>0 days 00:25:06</td>\n",
       "      <td>5</td>\n",
       "    </tr>\n",
       "    <tr>\n",
       "      <th>4</th>\n",
       "      <td>C123548CAB2A32A5</td>\n",
       "      <td>docked_bike</td>\n",
       "      <td>2021-04-03 12:42:25</td>\n",
       "      <td>2021-04-03 14:13:42</td>\n",
       "      <td>Loomis Blvd &amp; 84th St</td>\n",
       "      <td>20121</td>\n",
       "      <td>Loomis Blvd &amp; 84th St</td>\n",
       "      <td>20121</td>\n",
       "      <td>41.741487</td>\n",
       "      <td>-87.658410</td>\n",
       "      <td>41.741487</td>\n",
       "      <td>-87.658410</td>\n",
       "      <td>casual</td>\n",
       "      <td>0 days 01:31:17</td>\n",
       "      <td>5</td>\n",
       "    </tr>\n",
       "  </tbody>\n",
       "</table>\n",
       "</div>"
      ],
      "text/plain": [
       "            ride_id rideable_type          started_at            ended_at  \\\n",
       "0  6C992BD37A98A63F  classic_bike 2021-04-12 18:25:36 2021-04-12 18:56:55   \n",
       "1  1E0145613A209000   docked_bike 2021-04-27 17:27:11 2021-04-27 18:31:29   \n",
       "2  E498E15508A80BAD   docked_bike 2021-04-03 12:42:45 2021-04-07 11:40:24   \n",
       "3  1887262AD101C604  classic_bike 2021-04-17 09:17:42 2021-04-17 09:42:48   \n",
       "4  C123548CAB2A32A5   docked_bike 2021-04-03 12:42:25 2021-04-03 14:13:42   \n",
       "\n",
       "         start_station_name start_station_id              end_station_name  \\\n",
       "0     State St & Pearson St     TA1307000061  Southport Ave & Waveland Ave   \n",
       "1  Dorchester Ave & 49th St     KA1503000069      Dorchester Ave & 49th St   \n",
       "2     Loomis Blvd & 84th St            20121         Loomis Blvd & 84th St   \n",
       "3   Honore St & Division St     TA1305000034  Southport Ave & Waveland Ave   \n",
       "4     Loomis Blvd & 84th St            20121         Loomis Blvd & 84th St   \n",
       "\n",
       "  end_station_id  start_lat  start_lng    end_lat    end_lng member_casual  \\\n",
       "0          13235  41.897448 -87.628722  41.948150 -87.663940        member   \n",
       "1   KA1503000069  41.805772 -87.592464  41.805772 -87.592464        casual   \n",
       "2          20121  41.741487 -87.658410  41.741487 -87.658410        casual   \n",
       "3          13235  41.903119 -87.673935  41.948150 -87.663940        member   \n",
       "4          20121  41.741487 -87.658410  41.741487 -87.658410        casual   \n",
       "\n",
       "      ride_length  day_of_week  \n",
       "0 0 days 00:31:19            0  \n",
       "1 0 days 01:04:18            1  \n",
       "2 3 days 22:57:39            5  \n",
       "3 0 days 00:25:06            5  \n",
       "4 0 days 01:31:17            5  "
      ]
     },
     "execution_count": 8,
     "metadata": {},
     "output_type": "execute_result"
    }
   ],
   "source": [
    "#Get day of the week each ride started\n",
    "merged_df[\"day_of_week\"] = merged_df[\"started_at\"].dt.dayofweek\n",
    "merged_df.head()"
   ]
  },
  {
   "cell_type": "markdown",
   "metadata": {},
   "source": [
    "Create Weekday dictionary"
   ]
  },
  {
   "cell_type": "code",
   "execution_count": 9,
   "metadata": {},
   "outputs": [
    {
     "data": {
      "text/plain": [
       "0            Monday\n",
       "1           Tuesday\n",
       "2          Saturday\n",
       "3          Saturday\n",
       "4          Saturday\n",
       "            ...    \n",
       "284037       Sunday\n",
       "284038    Wednesday\n",
       "284039    Wednesday\n",
       "284040       Monday\n",
       "284041     Thursday\n",
       "Name: day_of_week_name, Length: 5723532, dtype: object"
      ]
     },
     "execution_count": 9,
     "metadata": {},
     "output_type": "execute_result"
    }
   ],
   "source": [
    "weekday = {\n",
    "    0:'Monday',\n",
    "    1:'Tuesday',\n",
    "    2:'Wednesday',\n",
    "    3:'Thursday',\n",
    "    4:'Friday',\n",
    "    5:'Saturday',\n",
    "    6:'Sunday'\n",
    "}\n",
    "\n",
    "merged_df['day_of_week_name'] = merged_df['day_of_week'].apply(lambda x:weekday[x])\n",
    "\n",
    "merged_df['day_of_week_name']"
   ]
  },
  {
   "cell_type": "markdown",
   "metadata": {},
   "source": [
    "Get Year and Month"
   ]
  },
  {
   "cell_type": "code",
   "execution_count": 10,
   "metadata": {},
   "outputs": [
    {
     "data": {
      "text/html": [
       "<div>\n",
       "<style scoped>\n",
       "    .dataframe tbody tr th:only-of-type {\n",
       "        vertical-align: middle;\n",
       "    }\n",
       "\n",
       "    .dataframe tbody tr th {\n",
       "        vertical-align: top;\n",
       "    }\n",
       "\n",
       "    .dataframe thead th {\n",
       "        text-align: right;\n",
       "    }\n",
       "</style>\n",
       "<table border=\"1\" class=\"dataframe\">\n",
       "  <thead>\n",
       "    <tr style=\"text-align: right;\">\n",
       "      <th></th>\n",
       "      <th>year</th>\n",
       "      <th>month</th>\n",
       "    </tr>\n",
       "  </thead>\n",
       "  <tbody>\n",
       "    <tr>\n",
       "      <th>0</th>\n",
       "      <td>2021</td>\n",
       "      <td>4</td>\n",
       "    </tr>\n",
       "    <tr>\n",
       "      <th>1</th>\n",
       "      <td>2021</td>\n",
       "      <td>4</td>\n",
       "    </tr>\n",
       "    <tr>\n",
       "      <th>2</th>\n",
       "      <td>2021</td>\n",
       "      <td>4</td>\n",
       "    </tr>\n",
       "    <tr>\n",
       "      <th>3</th>\n",
       "      <td>2021</td>\n",
       "      <td>4</td>\n",
       "    </tr>\n",
       "    <tr>\n",
       "      <th>4</th>\n",
       "      <td>2021</td>\n",
       "      <td>4</td>\n",
       "    </tr>\n",
       "    <tr>\n",
       "      <th>...</th>\n",
       "      <td>...</td>\n",
       "      <td>...</td>\n",
       "    </tr>\n",
       "    <tr>\n",
       "      <th>284037</th>\n",
       "      <td>2022</td>\n",
       "      <td>3</td>\n",
       "    </tr>\n",
       "    <tr>\n",
       "      <th>284038</th>\n",
       "      <td>2022</td>\n",
       "      <td>3</td>\n",
       "    </tr>\n",
       "    <tr>\n",
       "      <th>284039</th>\n",
       "      <td>2022</td>\n",
       "      <td>3</td>\n",
       "    </tr>\n",
       "    <tr>\n",
       "      <th>284040</th>\n",
       "      <td>2022</td>\n",
       "      <td>3</td>\n",
       "    </tr>\n",
       "    <tr>\n",
       "      <th>284041</th>\n",
       "      <td>2022</td>\n",
       "      <td>3</td>\n",
       "    </tr>\n",
       "  </tbody>\n",
       "</table>\n",
       "<p>5723532 rows × 2 columns</p>\n",
       "</div>"
      ],
      "text/plain": [
       "        year  month\n",
       "0       2021      4\n",
       "1       2021      4\n",
       "2       2021      4\n",
       "3       2021      4\n",
       "4       2021      4\n",
       "...      ...    ...\n",
       "284037  2022      3\n",
       "284038  2022      3\n",
       "284039  2022      3\n",
       "284040  2022      3\n",
       "284041  2022      3\n",
       "\n",
       "[5723532 rows x 2 columns]"
      ]
     },
     "execution_count": 10,
     "metadata": {},
     "output_type": "execute_result"
    }
   ],
   "source": [
    "merged_df['year'] = pd.DatetimeIndex(merged_df['started_at']).year\n",
    "merged_df['month'] = pd.DatetimeIndex(merged_df['started_at']).month\n",
    "\n",
    "merged_df[['year', 'month']]"
   ]
  },
  {
   "cell_type": "code",
   "execution_count": 11,
   "metadata": {},
   "outputs": [
    {
     "data": {
      "text/html": [
       "<div>\n",
       "<style scoped>\n",
       "    .dataframe tbody tr th:only-of-type {\n",
       "        vertical-align: middle;\n",
       "    }\n",
       "\n",
       "    .dataframe tbody tr th {\n",
       "        vertical-align: top;\n",
       "    }\n",
       "\n",
       "    .dataframe thead th {\n",
       "        text-align: right;\n",
       "    }\n",
       "</style>\n",
       "<table border=\"1\" class=\"dataframe\">\n",
       "  <thead>\n",
       "    <tr style=\"text-align: right;\">\n",
       "      <th></th>\n",
       "      <th>start_date</th>\n",
       "      <th>start_time</th>\n",
       "    </tr>\n",
       "  </thead>\n",
       "  <tbody>\n",
       "    <tr>\n",
       "      <th>0</th>\n",
       "      <td>2021-04-12</td>\n",
       "      <td>2022-08-01 18:25:36</td>\n",
       "    </tr>\n",
       "    <tr>\n",
       "      <th>1</th>\n",
       "      <td>2021-04-27</td>\n",
       "      <td>2022-08-01 17:27:11</td>\n",
       "    </tr>\n",
       "    <tr>\n",
       "      <th>2</th>\n",
       "      <td>2021-04-03</td>\n",
       "      <td>2022-08-01 12:42:45</td>\n",
       "    </tr>\n",
       "    <tr>\n",
       "      <th>3</th>\n",
       "      <td>2021-04-17</td>\n",
       "      <td>2022-08-01 09:17:42</td>\n",
       "    </tr>\n",
       "    <tr>\n",
       "      <th>4</th>\n",
       "      <td>2021-04-03</td>\n",
       "      <td>2022-08-01 12:42:25</td>\n",
       "    </tr>\n",
       "    <tr>\n",
       "      <th>...</th>\n",
       "      <td>...</td>\n",
       "      <td>...</td>\n",
       "    </tr>\n",
       "    <tr>\n",
       "      <th>284037</th>\n",
       "      <td>2022-03-13</td>\n",
       "      <td>2022-08-01 16:31:03</td>\n",
       "    </tr>\n",
       "    <tr>\n",
       "      <th>284038</th>\n",
       "      <td>2022-03-09</td>\n",
       "      <td>2022-08-01 06:56:02</td>\n",
       "    </tr>\n",
       "    <tr>\n",
       "      <th>284039</th>\n",
       "      <td>2022-03-09</td>\n",
       "      <td>2022-08-01 15:55:26</td>\n",
       "    </tr>\n",
       "    <tr>\n",
       "      <th>284040</th>\n",
       "      <td>2022-03-21</td>\n",
       "      <td>2022-08-01 16:12:44</td>\n",
       "    </tr>\n",
       "    <tr>\n",
       "      <th>284041</th>\n",
       "      <td>2022-03-03</td>\n",
       "      <td>2022-08-01 18:13:40</td>\n",
       "    </tr>\n",
       "  </tbody>\n",
       "</table>\n",
       "<p>5723532 rows × 2 columns</p>\n",
       "</div>"
      ],
      "text/plain": [
       "       start_date          start_time\n",
       "0      2021-04-12 2022-08-01 18:25:36\n",
       "1      2021-04-27 2022-08-01 17:27:11\n",
       "2      2021-04-03 2022-08-01 12:42:45\n",
       "3      2021-04-17 2022-08-01 09:17:42\n",
       "4      2021-04-03 2022-08-01 12:42:25\n",
       "...           ...                 ...\n",
       "284037 2022-03-13 2022-08-01 16:31:03\n",
       "284038 2022-03-09 2022-08-01 06:56:02\n",
       "284039 2022-03-09 2022-08-01 15:55:26\n",
       "284040 2022-03-21 2022-08-01 16:12:44\n",
       "284041 2022-03-03 2022-08-01 18:13:40\n",
       "\n",
       "[5723532 rows x 2 columns]"
      ]
     },
     "execution_count": 11,
     "metadata": {},
     "output_type": "execute_result"
    }
   ],
   "source": [
    "merged_df[['start_date', 'start_time']] = merged_df['started_at'].astype(str).str.split(' ', n=1, expand=True)\n",
    "\n",
    "merged_df['start_date'] = pd.to_datetime(merged_df['start_date'])\n",
    "merged_df['start_time'] = pd.to_datetime(merged_df['start_time'])\n",
    "\n",
    "merged_df[['start_date', 'start_time']]\n"
   ]
  },
  {
   "cell_type": "code",
   "execution_count": 12,
   "metadata": {},
   "outputs": [
    {
     "data": {
      "text/html": [
       "<div>\n",
       "<style scoped>\n",
       "    .dataframe tbody tr th:only-of-type {\n",
       "        vertical-align: middle;\n",
       "    }\n",
       "\n",
       "    .dataframe tbody tr th {\n",
       "        vertical-align: top;\n",
       "    }\n",
       "\n",
       "    .dataframe thead th {\n",
       "        text-align: right;\n",
       "    }\n",
       "</style>\n",
       "<table border=\"1\" class=\"dataframe\">\n",
       "  <thead>\n",
       "    <tr style=\"text-align: right;\">\n",
       "      <th></th>\n",
       "      <th>ride_id</th>\n",
       "      <th>rideable_type</th>\n",
       "      <th>started_at</th>\n",
       "      <th>ended_at</th>\n",
       "      <th>start_station_name</th>\n",
       "      <th>start_station_id</th>\n",
       "      <th>end_station_name</th>\n",
       "      <th>end_station_id</th>\n",
       "      <th>start_lat</th>\n",
       "      <th>start_lng</th>\n",
       "      <th>end_lat</th>\n",
       "      <th>end_lng</th>\n",
       "      <th>member_casual</th>\n",
       "      <th>ride_length</th>\n",
       "      <th>day_of_week</th>\n",
       "      <th>day_of_week_name</th>\n",
       "      <th>year</th>\n",
       "      <th>month</th>\n",
       "      <th>start_date</th>\n",
       "    </tr>\n",
       "  </thead>\n",
       "  <tbody>\n",
       "    <tr>\n",
       "      <th>0</th>\n",
       "      <td>6C992BD37A98A63F</td>\n",
       "      <td>classic_bike</td>\n",
       "      <td>2021-04-12 18:25:36</td>\n",
       "      <td>2021-04-12 18:56:55</td>\n",
       "      <td>State St &amp; Pearson St</td>\n",
       "      <td>TA1307000061</td>\n",
       "      <td>Southport Ave &amp; Waveland Ave</td>\n",
       "      <td>13235</td>\n",
       "      <td>41.897448</td>\n",
       "      <td>-87.628722</td>\n",
       "      <td>41.948150</td>\n",
       "      <td>-87.663940</td>\n",
       "      <td>member</td>\n",
       "      <td>0 days 00:31:19</td>\n",
       "      <td>0</td>\n",
       "      <td>Monday</td>\n",
       "      <td>2021</td>\n",
       "      <td>4</td>\n",
       "      <td>2021-04-12</td>\n",
       "    </tr>\n",
       "    <tr>\n",
       "      <th>1</th>\n",
       "      <td>1E0145613A209000</td>\n",
       "      <td>docked_bike</td>\n",
       "      <td>2021-04-27 17:27:11</td>\n",
       "      <td>2021-04-27 18:31:29</td>\n",
       "      <td>Dorchester Ave &amp; 49th St</td>\n",
       "      <td>KA1503000069</td>\n",
       "      <td>Dorchester Ave &amp; 49th St</td>\n",
       "      <td>KA1503000069</td>\n",
       "      <td>41.805772</td>\n",
       "      <td>-87.592464</td>\n",
       "      <td>41.805772</td>\n",
       "      <td>-87.592464</td>\n",
       "      <td>casual</td>\n",
       "      <td>0 days 01:04:18</td>\n",
       "      <td>1</td>\n",
       "      <td>Tuesday</td>\n",
       "      <td>2021</td>\n",
       "      <td>4</td>\n",
       "      <td>2021-04-27</td>\n",
       "    </tr>\n",
       "    <tr>\n",
       "      <th>2</th>\n",
       "      <td>E498E15508A80BAD</td>\n",
       "      <td>docked_bike</td>\n",
       "      <td>2021-04-03 12:42:45</td>\n",
       "      <td>2021-04-07 11:40:24</td>\n",
       "      <td>Loomis Blvd &amp; 84th St</td>\n",
       "      <td>20121</td>\n",
       "      <td>Loomis Blvd &amp; 84th St</td>\n",
       "      <td>20121</td>\n",
       "      <td>41.741487</td>\n",
       "      <td>-87.658410</td>\n",
       "      <td>41.741487</td>\n",
       "      <td>-87.658410</td>\n",
       "      <td>casual</td>\n",
       "      <td>3 days 22:57:39</td>\n",
       "      <td>5</td>\n",
       "      <td>Saturday</td>\n",
       "      <td>2021</td>\n",
       "      <td>4</td>\n",
       "      <td>2021-04-03</td>\n",
       "    </tr>\n",
       "    <tr>\n",
       "      <th>3</th>\n",
       "      <td>1887262AD101C604</td>\n",
       "      <td>classic_bike</td>\n",
       "      <td>2021-04-17 09:17:42</td>\n",
       "      <td>2021-04-17 09:42:48</td>\n",
       "      <td>Honore St &amp; Division St</td>\n",
       "      <td>TA1305000034</td>\n",
       "      <td>Southport Ave &amp; Waveland Ave</td>\n",
       "      <td>13235</td>\n",
       "      <td>41.903119</td>\n",
       "      <td>-87.673935</td>\n",
       "      <td>41.948150</td>\n",
       "      <td>-87.663940</td>\n",
       "      <td>member</td>\n",
       "      <td>0 days 00:25:06</td>\n",
       "      <td>5</td>\n",
       "      <td>Saturday</td>\n",
       "      <td>2021</td>\n",
       "      <td>4</td>\n",
       "      <td>2021-04-17</td>\n",
       "    </tr>\n",
       "    <tr>\n",
       "      <th>4</th>\n",
       "      <td>C123548CAB2A32A5</td>\n",
       "      <td>docked_bike</td>\n",
       "      <td>2021-04-03 12:42:25</td>\n",
       "      <td>2021-04-03 14:13:42</td>\n",
       "      <td>Loomis Blvd &amp; 84th St</td>\n",
       "      <td>20121</td>\n",
       "      <td>Loomis Blvd &amp; 84th St</td>\n",
       "      <td>20121</td>\n",
       "      <td>41.741487</td>\n",
       "      <td>-87.658410</td>\n",
       "      <td>41.741487</td>\n",
       "      <td>-87.658410</td>\n",
       "      <td>casual</td>\n",
       "      <td>0 days 01:31:17</td>\n",
       "      <td>5</td>\n",
       "      <td>Saturday</td>\n",
       "      <td>2021</td>\n",
       "      <td>4</td>\n",
       "      <td>2021-04-03</td>\n",
       "    </tr>\n",
       "  </tbody>\n",
       "</table>\n",
       "</div>"
      ],
      "text/plain": [
       "            ride_id rideable_type          started_at            ended_at  \\\n",
       "0  6C992BD37A98A63F  classic_bike 2021-04-12 18:25:36 2021-04-12 18:56:55   \n",
       "1  1E0145613A209000   docked_bike 2021-04-27 17:27:11 2021-04-27 18:31:29   \n",
       "2  E498E15508A80BAD   docked_bike 2021-04-03 12:42:45 2021-04-07 11:40:24   \n",
       "3  1887262AD101C604  classic_bike 2021-04-17 09:17:42 2021-04-17 09:42:48   \n",
       "4  C123548CAB2A32A5   docked_bike 2021-04-03 12:42:25 2021-04-03 14:13:42   \n",
       "\n",
       "         start_station_name start_station_id              end_station_name  \\\n",
       "0     State St & Pearson St     TA1307000061  Southport Ave & Waveland Ave   \n",
       "1  Dorchester Ave & 49th St     KA1503000069      Dorchester Ave & 49th St   \n",
       "2     Loomis Blvd & 84th St            20121         Loomis Blvd & 84th St   \n",
       "3   Honore St & Division St     TA1305000034  Southport Ave & Waveland Ave   \n",
       "4     Loomis Blvd & 84th St            20121         Loomis Blvd & 84th St   \n",
       "\n",
       "  end_station_id  start_lat  start_lng    end_lat    end_lng member_casual  \\\n",
       "0          13235  41.897448 -87.628722  41.948150 -87.663940        member   \n",
       "1   KA1503000069  41.805772 -87.592464  41.805772 -87.592464        casual   \n",
       "2          20121  41.741487 -87.658410  41.741487 -87.658410        casual   \n",
       "3          13235  41.903119 -87.673935  41.948150 -87.663940        member   \n",
       "4          20121  41.741487 -87.658410  41.741487 -87.658410        casual   \n",
       "\n",
       "      ride_length  day_of_week day_of_week_name  year  month start_date  \n",
       "0 0 days 00:31:19            0           Monday  2021      4 2021-04-12  \n",
       "1 0 days 01:04:18            1          Tuesday  2021      4 2021-04-27  \n",
       "2 3 days 22:57:39            5         Saturday  2021      4 2021-04-03  \n",
       "3 0 days 00:25:06            5         Saturday  2021      4 2021-04-17  \n",
       "4 0 days 01:31:17            5         Saturday  2021      4 2021-04-03  "
      ]
     },
     "execution_count": 12,
     "metadata": {},
     "output_type": "execute_result"
    }
   ],
   "source": [
    "merged_df = merged_df.drop(['start_time'], axis=1)\n",
    "\n",
    "merged_df.head()"
   ]
  },
  {
   "cell_type": "markdown",
   "metadata": {},
   "source": [
    "Sort by start_date"
   ]
  },
  {
   "cell_type": "code",
   "execution_count": 13,
   "metadata": {},
   "outputs": [
    {
     "data": {
      "text/html": [
       "<div>\n",
       "<style scoped>\n",
       "    .dataframe tbody tr th:only-of-type {\n",
       "        vertical-align: middle;\n",
       "    }\n",
       "\n",
       "    .dataframe tbody tr th {\n",
       "        vertical-align: top;\n",
       "    }\n",
       "\n",
       "    .dataframe thead th {\n",
       "        text-align: right;\n",
       "    }\n",
       "</style>\n",
       "<table border=\"1\" class=\"dataframe\">\n",
       "  <thead>\n",
       "    <tr style=\"text-align: right;\">\n",
       "      <th></th>\n",
       "      <th>ride_id</th>\n",
       "      <th>rideable_type</th>\n",
       "      <th>started_at</th>\n",
       "      <th>ended_at</th>\n",
       "      <th>start_station_name</th>\n",
       "      <th>start_station_id</th>\n",
       "      <th>end_station_name</th>\n",
       "      <th>end_station_id</th>\n",
       "      <th>start_lat</th>\n",
       "      <th>start_lng</th>\n",
       "      <th>end_lat</th>\n",
       "      <th>end_lng</th>\n",
       "      <th>member_casual</th>\n",
       "      <th>ride_length</th>\n",
       "      <th>day_of_week</th>\n",
       "      <th>day_of_week_name</th>\n",
       "      <th>year</th>\n",
       "      <th>month</th>\n",
       "      <th>start_date</th>\n",
       "    </tr>\n",
       "  </thead>\n",
       "  <tbody>\n",
       "    <tr>\n",
       "      <th>112349</th>\n",
       "      <td>F2036D7149B86703</td>\n",
       "      <td>classic_bike</td>\n",
       "      <td>2021-04-01 12:36:53</td>\n",
       "      <td>2021-04-01 12:53:14</td>\n",
       "      <td>Desplaines St &amp; Kinzie St</td>\n",
       "      <td>TA1306000003</td>\n",
       "      <td>Wolcott Ave &amp; Polk St</td>\n",
       "      <td>TA1309000064</td>\n",
       "      <td>41.888716</td>\n",
       "      <td>-87.644448</td>\n",
       "      <td>41.871262</td>\n",
       "      <td>-87.673688</td>\n",
       "      <td>member</td>\n",
       "      <td>0 days 00:16:21</td>\n",
       "      <td>3</td>\n",
       "      <td>Thursday</td>\n",
       "      <td>2021</td>\n",
       "      <td>4</td>\n",
       "      <td>2021-04-01</td>\n",
       "    </tr>\n",
       "    <tr>\n",
       "      <th>150115</th>\n",
       "      <td>7A3FFF7299FA3518</td>\n",
       "      <td>docked_bike</td>\n",
       "      <td>2021-04-01 16:41:56</td>\n",
       "      <td>2021-04-01 18:39:56</td>\n",
       "      <td>Mies van der Rohe Way &amp; Chicago Ave</td>\n",
       "      <td>13338</td>\n",
       "      <td>Morgan St &amp; Lake St</td>\n",
       "      <td>TA1306000015</td>\n",
       "      <td>41.896910</td>\n",
       "      <td>-87.621743</td>\n",
       "      <td>41.885483</td>\n",
       "      <td>-87.652305</td>\n",
       "      <td>casual</td>\n",
       "      <td>0 days 01:58:00</td>\n",
       "      <td>3</td>\n",
       "      <td>Thursday</td>\n",
       "      <td>2021</td>\n",
       "      <td>4</td>\n",
       "      <td>2021-04-01</td>\n",
       "    </tr>\n",
       "    <tr>\n",
       "      <th>253260</th>\n",
       "      <td>E3C42B4CE50CEEA5</td>\n",
       "      <td>classic_bike</td>\n",
       "      <td>2021-04-01 19:00:19</td>\n",
       "      <td>2021-04-01 19:37:53</td>\n",
       "      <td>Dayton St &amp; North Ave</td>\n",
       "      <td>13058</td>\n",
       "      <td>Paulina Ave &amp; North Ave</td>\n",
       "      <td>TA1305000037</td>\n",
       "      <td>41.910578</td>\n",
       "      <td>-87.649422</td>\n",
       "      <td>41.910337</td>\n",
       "      <td>-87.670072</td>\n",
       "      <td>casual</td>\n",
       "      <td>0 days 00:37:34</td>\n",
       "      <td>3</td>\n",
       "      <td>Thursday</td>\n",
       "      <td>2021</td>\n",
       "      <td>4</td>\n",
       "      <td>2021-04-01</td>\n",
       "    </tr>\n",
       "    <tr>\n",
       "      <th>58306</th>\n",
       "      <td>05D94A29780A69D5</td>\n",
       "      <td>electric_bike</td>\n",
       "      <td>2021-04-01 22:12:54</td>\n",
       "      <td>2021-04-01 22:57:14</td>\n",
       "      <td>NaN</td>\n",
       "      <td>NaN</td>\n",
       "      <td>Wells St &amp; Concord Ln</td>\n",
       "      <td>TA1308000050</td>\n",
       "      <td>41.870000</td>\n",
       "      <td>-87.630000</td>\n",
       "      <td>41.911952</td>\n",
       "      <td>-87.634491</td>\n",
       "      <td>member</td>\n",
       "      <td>0 days 00:44:20</td>\n",
       "      <td>3</td>\n",
       "      <td>Thursday</td>\n",
       "      <td>2021</td>\n",
       "      <td>4</td>\n",
       "      <td>2021-04-01</td>\n",
       "    </tr>\n",
       "    <tr>\n",
       "      <th>205013</th>\n",
       "      <td>A74026BCD0DD8063</td>\n",
       "      <td>classic_bike</td>\n",
       "      <td>2021-04-01 19:00:22</td>\n",
       "      <td>2021-04-01 19:30:32</td>\n",
       "      <td>Michigan Ave &amp; Pearson St</td>\n",
       "      <td>13034</td>\n",
       "      <td>Sheffield Ave &amp; Waveland Ave</td>\n",
       "      <td>TA1307000126</td>\n",
       "      <td>41.897660</td>\n",
       "      <td>-87.623510</td>\n",
       "      <td>41.949399</td>\n",
       "      <td>-87.654529</td>\n",
       "      <td>member</td>\n",
       "      <td>0 days 00:30:10</td>\n",
       "      <td>3</td>\n",
       "      <td>Thursday</td>\n",
       "      <td>2021</td>\n",
       "      <td>4</td>\n",
       "      <td>2021-04-01</td>\n",
       "    </tr>\n",
       "  </tbody>\n",
       "</table>\n",
       "</div>"
      ],
      "text/plain": [
       "                 ride_id  rideable_type          started_at  \\\n",
       "112349  F2036D7149B86703   classic_bike 2021-04-01 12:36:53   \n",
       "150115  7A3FFF7299FA3518    docked_bike 2021-04-01 16:41:56   \n",
       "253260  E3C42B4CE50CEEA5   classic_bike 2021-04-01 19:00:19   \n",
       "58306   05D94A29780A69D5  electric_bike 2021-04-01 22:12:54   \n",
       "205013  A74026BCD0DD8063   classic_bike 2021-04-01 19:00:22   \n",
       "\n",
       "                  ended_at                   start_station_name  \\\n",
       "112349 2021-04-01 12:53:14            Desplaines St & Kinzie St   \n",
       "150115 2021-04-01 18:39:56  Mies van der Rohe Way & Chicago Ave   \n",
       "253260 2021-04-01 19:37:53                Dayton St & North Ave   \n",
       "58306  2021-04-01 22:57:14                                  NaN   \n",
       "205013 2021-04-01 19:30:32            Michigan Ave & Pearson St   \n",
       "\n",
       "       start_station_id              end_station_name end_station_id  \\\n",
       "112349     TA1306000003         Wolcott Ave & Polk St   TA1309000064   \n",
       "150115            13338           Morgan St & Lake St   TA1306000015   \n",
       "253260            13058       Paulina Ave & North Ave   TA1305000037   \n",
       "58306               NaN         Wells St & Concord Ln   TA1308000050   \n",
       "205013            13034  Sheffield Ave & Waveland Ave   TA1307000126   \n",
       "\n",
       "        start_lat  start_lng    end_lat    end_lng member_casual  \\\n",
       "112349  41.888716 -87.644448  41.871262 -87.673688        member   \n",
       "150115  41.896910 -87.621743  41.885483 -87.652305        casual   \n",
       "253260  41.910578 -87.649422  41.910337 -87.670072        casual   \n",
       "58306   41.870000 -87.630000  41.911952 -87.634491        member   \n",
       "205013  41.897660 -87.623510  41.949399 -87.654529        member   \n",
       "\n",
       "           ride_length  day_of_week day_of_week_name  year  month start_date  \n",
       "112349 0 days 00:16:21            3         Thursday  2021      4 2021-04-01  \n",
       "150115 0 days 01:58:00            3         Thursday  2021      4 2021-04-01  \n",
       "253260 0 days 00:37:34            3         Thursday  2021      4 2021-04-01  \n",
       "58306  0 days 00:44:20            3         Thursday  2021      4 2021-04-01  \n",
       "205013 0 days 00:30:10            3         Thursday  2021      4 2021-04-01  "
      ]
     },
     "execution_count": 13,
     "metadata": {},
     "output_type": "execute_result"
    }
   ],
   "source": [
    "merged_df = merged_df.sort_values(by=['start_date'], ascending=True)\n",
    "\n",
    "merged_df.head()"
   ]
  },
  {
   "cell_type": "code",
   "execution_count": 14,
   "metadata": {},
   "outputs": [],
   "source": [
    "#merged_df.to_csv('Merged.csv')"
   ]
  },
  {
   "cell_type": "markdown",
   "metadata": {},
   "source": [
    "ANALYSIS"
   ]
  },
  {
   "cell_type": "markdown",
   "metadata": {},
   "source": [
    "Total Number of Members per Type"
   ]
  },
  {
   "cell_type": "code",
   "execution_count": 15,
   "metadata": {},
   "outputs": [
    {
     "data": {
      "text/plain": [
       "member    3176990\n",
       "casual    2546542\n",
       "Name: member_casual, dtype: int64"
      ]
     },
     "execution_count": 15,
     "metadata": {},
     "output_type": "execute_result"
    }
   ],
   "source": [
    "total_members = merged_df['member_casual'].value_counts()\n",
    "total_members"
   ]
  },
  {
   "cell_type": "code",
   "execution_count": 16,
   "metadata": {},
   "outputs": [],
   "source": [
    "#Convert to dataframe then to CSV file\n",
    "total_members_df = pd.DataFrame({\"member_type\":total_members.index,\n",
    "                                    \"number_of_users\": total_members.values})\n",
    "#total_members_df\n",
    "#total_members_df.to_csv(\"total_members.csv\", index=False)"
   ]
  },
  {
   "cell_type": "markdown",
   "metadata": {},
   "source": [
    "Average ride length of casual users"
   ]
  },
  {
   "cell_type": "code",
   "execution_count": 17,
   "metadata": {},
   "outputs": [
    {
     "data": {
      "text/plain": [
       "Timedelta('0 days 00:31:44.351371781')"
      ]
     },
     "execution_count": 17,
     "metadata": {},
     "output_type": "execute_result"
    }
   ],
   "source": [
    "casual_member = merged_df[merged_df['member_casual'] == 'casual']\n",
    "\n",
    "avg_casual_member_ride_length = casual_member['ride_length'].mean()\n",
    "\n",
    "avg_casual_member_ride_length"
   ]
  },
  {
   "cell_type": "markdown",
   "metadata": {},
   "source": [
    "Average Ride Length per Day for casual users"
   ]
  },
  {
   "cell_type": "code",
   "execution_count": 18,
   "metadata": {},
   "outputs": [
    {
     "data": {
      "text/html": [
       "<div>\n",
       "<style scoped>\n",
       "    .dataframe tbody tr th:only-of-type {\n",
       "        vertical-align: middle;\n",
       "    }\n",
       "\n",
       "    .dataframe tbody tr th {\n",
       "        vertical-align: top;\n",
       "    }\n",
       "\n",
       "    .dataframe thead th {\n",
       "        text-align: right;\n",
       "    }\n",
       "</style>\n",
       "<table border=\"1\" class=\"dataframe\">\n",
       "  <thead>\n",
       "    <tr style=\"text-align: right;\">\n",
       "      <th></th>\n",
       "      <th>day_of_week</th>\n",
       "      <th>casual_ride_length_avg</th>\n",
       "    </tr>\n",
       "  </thead>\n",
       "  <tbody>\n",
       "    <tr>\n",
       "      <th>0</th>\n",
       "      <td>Friday</td>\n",
       "      <td>30.103184</td>\n",
       "    </tr>\n",
       "    <tr>\n",
       "      <th>1</th>\n",
       "      <td>Monday</td>\n",
       "      <td>31.482169</td>\n",
       "    </tr>\n",
       "    <tr>\n",
       "      <th>2</th>\n",
       "      <td>Saturday</td>\n",
       "      <td>34.280708</td>\n",
       "    </tr>\n",
       "    <tr>\n",
       "      <th>3</th>\n",
       "      <td>Sunday</td>\n",
       "      <td>37.401182</td>\n",
       "    </tr>\n",
       "    <tr>\n",
       "      <th>4</th>\n",
       "      <td>Thursday</td>\n",
       "      <td>27.881277</td>\n",
       "    </tr>\n",
       "    <tr>\n",
       "      <th>5</th>\n",
       "      <td>Tuesday</td>\n",
       "      <td>27.434753</td>\n",
       "    </tr>\n",
       "    <tr>\n",
       "      <th>6</th>\n",
       "      <td>Wednesday</td>\n",
       "      <td>27.765784</td>\n",
       "    </tr>\n",
       "  </tbody>\n",
       "</table>\n",
       "</div>"
      ],
      "text/plain": [
       "  day_of_week  casual_ride_length_avg\n",
       "0      Friday               30.103184\n",
       "1      Monday               31.482169\n",
       "2    Saturday               34.280708\n",
       "3      Sunday               37.401182\n",
       "4    Thursday               27.881277\n",
       "5     Tuesday               27.434753\n",
       "6   Wednesday               27.765784"
      ]
     },
     "execution_count": 18,
     "metadata": {},
     "output_type": "execute_result"
    }
   ],
   "source": [
    "avg_casual_length_per_day = casual_member[['day_of_week_name', 'ride_length']]\n",
    "avg_casual_length_per_day = avg_casual_length_per_day.groupby('day_of_week_name')['ride_length'].mean()\n",
    "\n",
    "#Convert above result to dataframe\n",
    "avg_casual_length_per_day_df = pd.DataFrame({\"day_of_week\":avg_casual_length_per_day.index,\n",
    "                                    \"casual_ride_length_avg\": avg_casual_length_per_day.values})\n",
    "\n",
    "avg_casual_length_per_day_df['casual_ride_length_avg'] = avg_casual_length_per_day_df['casual_ride_length_avg']/pd.Timedelta(minutes=1) #To get ride length in minutes\n",
    "\n",
    "avg_casual_length_per_day_df\n"
   ]
  },
  {
   "cell_type": "markdown",
   "metadata": {},
   "source": [
    "Average ride length of paid users"
   ]
  },
  {
   "cell_type": "code",
   "execution_count": 19,
   "metadata": {},
   "outputs": [
    {
     "data": {
      "text/plain": [
       "Timedelta('0 days 00:13:22.147240312')"
      ]
     },
     "execution_count": 19,
     "metadata": {},
     "output_type": "execute_result"
    }
   ],
   "source": [
    "paid_member = merged_df[merged_df['member_casual'] == 'member']\n",
    "\n",
    "avg_paid_member_ride_length = paid_member['ride_length'].mean()\n",
    "\n",
    "avg_paid_member_ride_length"
   ]
  },
  {
   "cell_type": "markdown",
   "metadata": {},
   "source": [
    "Average Ride Length per Day for Paid Users"
   ]
  },
  {
   "cell_type": "code",
   "execution_count": 20,
   "metadata": {},
   "outputs": [
    {
     "data": {
      "text/html": [
       "<div>\n",
       "<style scoped>\n",
       "    .dataframe tbody tr th:only-of-type {\n",
       "        vertical-align: middle;\n",
       "    }\n",
       "\n",
       "    .dataframe tbody tr th {\n",
       "        vertical-align: top;\n",
       "    }\n",
       "\n",
       "    .dataframe thead th {\n",
       "        text-align: right;\n",
       "    }\n",
       "</style>\n",
       "<table border=\"1\" class=\"dataframe\">\n",
       "  <thead>\n",
       "    <tr style=\"text-align: right;\">\n",
       "      <th></th>\n",
       "      <th>day_of_week</th>\n",
       "      <th>paid_ride_length_avg</th>\n",
       "    </tr>\n",
       "  </thead>\n",
       "  <tbody>\n",
       "    <tr>\n",
       "      <th>0</th>\n",
       "      <td>Friday</td>\n",
       "      <td>13.139436</td>\n",
       "    </tr>\n",
       "    <tr>\n",
       "      <th>1</th>\n",
       "      <td>Monday</td>\n",
       "      <td>12.968374</td>\n",
       "    </tr>\n",
       "    <tr>\n",
       "      <th>2</th>\n",
       "      <td>Saturday</td>\n",
       "      <td>14.993210</td>\n",
       "    </tr>\n",
       "    <tr>\n",
       "      <th>3</th>\n",
       "      <td>Sunday</td>\n",
       "      <td>15.341231</td>\n",
       "    </tr>\n",
       "    <tr>\n",
       "      <th>4</th>\n",
       "      <td>Thursday</td>\n",
       "      <td>12.570855</td>\n",
       "    </tr>\n",
       "    <tr>\n",
       "      <th>5</th>\n",
       "      <td>Tuesday</td>\n",
       "      <td>12.521777</td>\n",
       "    </tr>\n",
       "    <tr>\n",
       "      <th>6</th>\n",
       "      <td>Wednesday</td>\n",
       "      <td>12.588441</td>\n",
       "    </tr>\n",
       "  </tbody>\n",
       "</table>\n",
       "</div>"
      ],
      "text/plain": [
       "  day_of_week  paid_ride_length_avg\n",
       "0      Friday             13.139436\n",
       "1      Monday             12.968374\n",
       "2    Saturday             14.993210\n",
       "3      Sunday             15.341231\n",
       "4    Thursday             12.570855\n",
       "5     Tuesday             12.521777\n",
       "6   Wednesday             12.588441"
      ]
     },
     "execution_count": 20,
     "metadata": {},
     "output_type": "execute_result"
    }
   ],
   "source": [
    "avg_paid_length_per_day = paid_member[['day_of_week_name', 'ride_length']]\n",
    "avg_paid_length_per_day = avg_paid_length_per_day.groupby('day_of_week_name')['ride_length'].mean()\n",
    "#avg_paid_length_per_day_df = avg_paid_length_per_day.to_frame()\n",
    "\n",
    "avg_paid_length_per_day_df = pd.DataFrame({\"day_of_week\":avg_paid_length_per_day.index,\n",
    "                                    \"paid_ride_length_avg\": avg_paid_length_per_day.values})\n",
    "\n",
    "avg_paid_length_per_day_df['paid_ride_length_avg'] = avg_paid_length_per_day_df['paid_ride_length_avg']/pd.Timedelta(minutes=1) #To get ride length in minutes\n",
    "\n",
    "avg_paid_length_per_day_df\n"
   ]
  },
  {
   "cell_type": "markdown",
   "metadata": {},
   "source": [
    "Merge the average ride lengths per day for both types of users"
   ]
  },
  {
   "cell_type": "code",
   "execution_count": 21,
   "metadata": {},
   "outputs": [],
   "source": [
    "avg_ride_length_per_day = pd.merge(avg_paid_length_per_day_df, avg_casual_length_per_day_df, on='day_of_week')\n",
    "\n",
    "#avg_ride_length_per_day.to_csv('average_ride_length_per_day.csv', index=False)"
   ]
  },
  {
   "cell_type": "markdown",
   "metadata": {},
   "source": [
    "Max ride length of casual users"
   ]
  },
  {
   "cell_type": "code",
   "execution_count": 22,
   "metadata": {},
   "outputs": [
    {
     "data": {
      "text/plain": [
       "Timedelta('38 days 20:24:09')"
      ]
     },
     "execution_count": 22,
     "metadata": {},
     "output_type": "execute_result"
    }
   ],
   "source": [
    "max_casual_member_ride_length = casual_member['ride_length'].max()\n",
    "\n",
    "max_casual_member_ride_length"
   ]
  },
  {
   "cell_type": "markdown",
   "metadata": {},
   "source": [
    "Max ride length of paid users"
   ]
  },
  {
   "cell_type": "code",
   "execution_count": 23,
   "metadata": {},
   "outputs": [
    {
     "data": {
      "text/plain": [
       "Timedelta('1 days 01:59:54')"
      ]
     },
     "execution_count": 23,
     "metadata": {},
     "output_type": "execute_result"
    }
   ],
   "source": [
    "max_paid_member_ride_length = paid_member['ride_length'].max()\n",
    "\n",
    "max_paid_member_ride_length"
   ]
  },
  {
   "cell_type": "markdown",
   "metadata": {},
   "source": [
    "Most frequent ride days for casual members"
   ]
  },
  {
   "cell_type": "code",
   "execution_count": 24,
   "metadata": {},
   "outputs": [
    {
     "data": {
      "text/plain": [
       "0    Saturday\n",
       "dtype: object"
      ]
     },
     "execution_count": 24,
     "metadata": {},
     "output_type": "execute_result"
    }
   ],
   "source": [
    "mode_ride_day_casual_member = casual_member['day_of_week_name'].mode()\n",
    "\n",
    "mode_ride_day_casual_member"
   ]
  },
  {
   "cell_type": "markdown",
   "metadata": {},
   "source": [
    "Most frequent ride days for paid members"
   ]
  },
  {
   "cell_type": "code",
   "execution_count": 25,
   "metadata": {},
   "outputs": [
    {
     "data": {
      "text/plain": [
       "0    Wednesday\n",
       "dtype: object"
      ]
     },
     "execution_count": 25,
     "metadata": {},
     "output_type": "execute_result"
    }
   ],
   "source": [
    "mode_ride_day_paid_member = paid_member['day_of_week_name'].mode()\n",
    "\n",
    "mode_ride_day_paid_member"
   ]
  },
  {
   "cell_type": "markdown",
   "metadata": {},
   "source": [
    "Number of rides per day for casual members"
   ]
  },
  {
   "cell_type": "code",
   "execution_count": 26,
   "metadata": {},
   "outputs": [
    {
     "data": {
      "text/plain": [
       "day_of_week_name\n",
       "Saturday     550015\n",
       "Sunday       482840\n",
       "Friday       364282\n",
       "Thursday     293632\n",
       "Monday       292996\n",
       "Wednesday    286402\n",
       "Tuesday      276375\n",
       "Name: ride_id, dtype: int64"
      ]
     },
     "execution_count": 26,
     "metadata": {},
     "output_type": "execute_result"
    }
   ],
   "source": [
    "ride_per_day_casual = casual_member.groupby('day_of_week_name')['ride_id'].count().sort_values(ascending=False)\n",
    "\n",
    "ride_per_day_casual"
   ]
  },
  {
   "cell_type": "code",
   "execution_count": 27,
   "metadata": {},
   "outputs": [],
   "source": [
    "#Convert to dataframe then to CSV file\n",
    "ride_per_day_casual_df = pd.DataFrame({\"day_of_week\":ride_per_day_casual.index,\n",
    "                                    \"casual_number_of_rides\": ride_per_day_casual.values})\n",
    "#ride_per_day_casual_df\n",
    "#ride_per_day_casual_df.to_csv(\"casual_members_rides_per_day.csv\", index=False)"
   ]
  },
  {
   "cell_type": "markdown",
   "metadata": {},
   "source": [
    "Number of rides per day for paid members"
   ]
  },
  {
   "cell_type": "code",
   "execution_count": 28,
   "metadata": {},
   "outputs": [
    {
     "data": {
      "text/plain": [
       "day_of_week_name\n",
       "Wednesday    499936\n",
       "Tuesday      490099\n",
       "Thursday     475334\n",
       "Friday       453113\n",
       "Monday       439435\n",
       "Saturday     431331\n",
       "Sunday       387742\n",
       "Name: ride_id, dtype: int64"
      ]
     },
     "execution_count": 28,
     "metadata": {},
     "output_type": "execute_result"
    }
   ],
   "source": [
    "ride_per_day_paid = paid_member.groupby('day_of_week_name')['ride_id'].count().sort_values(ascending=False)\n",
    "\n",
    "ride_per_day_paid"
   ]
  },
  {
   "cell_type": "code",
   "execution_count": 29,
   "metadata": {},
   "outputs": [],
   "source": [
    "#Convert to dataframe then to CSV file\n",
    "ride_per_day_paid_df = pd.DataFrame({\"day_of_week\":ride_per_day_paid.index,\n",
    "                                    \"paid_number_of_rides\": ride_per_day_paid.values})\n",
    "#ride_per_day_paid_df\n",
    "#ride_per_day_paid_df.to_csv(\"paid_members_rides_per_day.csv\", index=False)"
   ]
  },
  {
   "cell_type": "markdown",
   "metadata": {},
   "source": [
    "Merge ride per day dataframes of both casual and paid members"
   ]
  },
  {
   "cell_type": "code",
   "execution_count": 30,
   "metadata": {},
   "outputs": [],
   "source": [
    "ride_per_day = pd.merge(ride_per_day_casual_df, ride_per_day_paid_df, on=\"day_of_week\")\n",
    "\n",
    "#ride_per_day\n",
    "#ride_per_day.to_csv(\"rides_per_day.csv\", index=False)"
   ]
  },
  {
   "cell_type": "markdown",
   "metadata": {},
   "source": [
    "Check monthly trends among users"
   ]
  },
  {
   "cell_type": "code",
   "execution_count": 40,
   "metadata": {},
   "outputs": [],
   "source": [
    "monthly_trend = merged_df.groupby(\"month\")[\"member_casual\"].value_counts()\n",
    "\n",
    "monthly_trend_df = monthly_trend.to_frame()\n",
    "\n",
    "#monthly_trend_df\n",
    "\n",
    "#Convert to dataframe then to CSV file\n",
    "#monthly_trend_df = monthly_trend.unstack(level=1)\n",
    "#monthly_trend_df\n",
    "\n",
    "#monthly_trend_df.to_csv(\"monthly_trend.csv\")"
   ]
  }
 ],
 "metadata": {
  "interpreter": {
   "hash": "6dd9b2a283f1c76b2587d616d9b2be5f4f28cb2299d9e57281598c8bbc094c35"
  },
  "kernelspec": {
   "display_name": "Python 3.8.12 ('base')",
   "language": "python",
   "name": "python3"
  },
  "language_info": {
   "codemirror_mode": {
    "name": "ipython",
    "version": 3
   },
   "file_extension": ".py",
   "mimetype": "text/x-python",
   "name": "python",
   "nbconvert_exporter": "python",
   "pygments_lexer": "ipython3",
   "version": "3.8.12"
  },
  "orig_nbformat": 4
 },
 "nbformat": 4,
 "nbformat_minor": 2
}
